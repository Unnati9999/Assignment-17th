{
 "cells": [
  {
   "cell_type": "markdown",
   "id": "92bec874-e673-479f-b4ea-477ebc52f76a",
   "metadata": {},
   "source": [
    "Q1. What is Web Scraping? Why is it Used? Give three areas where Web Scraping is used to get data."
   ]
  },
  {
   "cell_type": "markdown",
   "id": "dde2ec9a-7e9a-4216-bb4e-f74c7be78603",
   "metadata": {},
   "source": [
    "Web scraping is the process of collecting structured web data in an automated manner.                           \n",
    "It's also widely known as web data extraction"
   ]
  },
  {
   "cell_type": "markdown",
   "id": "d014801e-8de9-4410-9995-78540d7d98fe",
   "metadata": {},
   "source": [
    "Some of the main use cases of web scraping include price monitoring, price intelligence, news monitoring,  \n",
    "lead generation, and market research among many others"
   ]
  },
  {
   "cell_type": "code",
   "execution_count": null,
   "id": "28be7997-060e-490a-9bee-8fefb8fdc78a",
   "metadata": {},
   "outputs": [],
   "source": []
  },
  {
   "cell_type": "markdown",
   "id": "7d8781a8-c693-47fd-94ce-4a55ead6bd9f",
   "metadata": {},
   "source": [
    "Q2. What are the different methods used for Web Scraping?"
   ]
  },
  {
   "cell_type": "markdown",
   "id": "1c49fddc-d8d6-4538-984d-4eb4bc67c095",
   "metadata": {},
   "source": [
    "There are many different ways to perform web scraping to obtain data from websites. \n",
    "These include using online services, particular API's or even creating your code for web scraping from scratch"
   ]
  },
  {
   "cell_type": "code",
   "execution_count": null,
   "id": "6a2dbcd3-2ce1-4fe4-82c8-7a9104e1d1d8",
   "metadata": {},
   "outputs": [],
   "source": []
  },
  {
   "cell_type": "markdown",
   "id": "d7fd5180-6468-4653-9c25-87538c7c3d4f",
   "metadata": {},
   "source": [
    "Q3. What is Beautiful Soup? Why is it used?"
   ]
  },
  {
   "cell_type": "markdown",
   "id": "bb223456-fb06-4b68-ac76-c66dea018ef6",
   "metadata": {},
   "source": [
    "BeautifulSoup Object: The BeautifulSoup object represents the parsed document as a whole. \n",
    "So, it is the complete document which we are trying to scrape. For most purposes, you can treat it as a Tag objec"
   ]
  },
  {
   "cell_type": "code",
   "execution_count": null,
   "id": "66ac1be8-26aa-4e58-a4d1-2f895cbf86a8",
   "metadata": {},
   "outputs": [],
   "source": []
  },
  {
   "cell_type": "markdown",
   "id": "7b571166-0fea-462f-a99a-c2419a922ee1",
   "metadata": {},
   "source": [
    "Q4. Why is flask used in this Web Scraping project?"
   ]
  },
  {
   "cell_type": "markdown",
   "id": "aecf80ee-64a6-4d0b-8c65-69d240194c2b",
   "metadata": {},
   "source": [
    "Flask is a lightweight framework to build websites.                                       \n",
    "We'll use this to parse our collected data and display it as HTML in a new HTML file.                                 \n",
    "The requests module allows us to send http requests to the website we want to scrape.                                 \n",
    "The first line imports the Flask class and the render_template method from the flask library.                                                                      "
   ]
  },
  {
   "cell_type": "code",
   "execution_count": null,
   "id": "e62e918c-4cba-458a-82c3-8421141dfd28",
   "metadata": {},
   "outputs": [],
   "source": []
  },
  {
   "cell_type": "markdown",
   "id": "345e88be-2e64-4cea-abd8-8c573d52497d",
   "metadata": {},
   "source": [
    "Q5. Write the names of AWS services used in this project. Also, explain the use of each service."
   ]
  },
  {
   "cell_type": "markdown",
   "id": "6d6fa6bf-ae04-4fde-bdf0-e3fa4fe3b879",
   "metadata": {},
   "source": [
    "AWS Cloud Financial Management Services                                                                \n",
    "AWS Application Integration Services.                                                   \n",
    "AWS Compute Services                                                        \n",
    "AWS Analytics Services                                                       \n"
   ]
  },
  {
   "cell_type": "markdown",
   "id": "f963b399-c4f0-4097-8399-e93f2ca294a4",
   "metadata": {},
   "source": [
    "AWS is designed to allow application providers, ISVs, and vendors to quickly and securely host your applications – "
   ]
  },
  {
   "cell_type": "code",
   "execution_count": null,
   "id": "ef0daa16-a787-4abe-9ebe-ff2227e22be7",
   "metadata": {},
   "outputs": [],
   "source": []
  }
 ],
 "metadata": {
  "kernelspec": {
   "display_name": "Python 3 (ipykernel)",
   "language": "python",
   "name": "python3"
  },
  "language_info": {
   "codemirror_mode": {
    "name": "ipython",
    "version": 3
   },
   "file_extension": ".py",
   "mimetype": "text/x-python",
   "name": "python",
   "nbconvert_exporter": "python",
   "pygments_lexer": "ipython3",
   "version": "3.10.8"
  }
 },
 "nbformat": 4,
 "nbformat_minor": 5
}
